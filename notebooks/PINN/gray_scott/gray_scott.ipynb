{
  "cells": [
    {
      "cell_type": "markdown",
      "metadata": {
        "id": "ZuVE6Z7tH3pr"
      },
      "source": [
        "# Gray-Scott Model\n",
        "\n",
        "This notebook is originally an idea of [@gouarin](https://github.com/gouarin)"
      ]
    },
    {
      "cell_type": "code",
      "execution_count": 1,
      "metadata": {
        "id": "piTTYQQ1H3px"
      },
      "outputs": [],
      "source": [
        "import numpy as np"
      ]
    },
    {
      "cell_type": "markdown",
      "metadata": {
        "id": "7L20A3k9H3py"
      },
      "source": [
        "The reaction-diffusion system described here involves two generic chemical species U and V, whose concentration at a given point in space is referred to by variables u and v. As the term implies, they react with each other, and they diffuse through the medium. Therefore the concentration of U and V at any given location changes with time and can differ from that at other locations.\n",
        "\n",
        "The overall behavior of the system is described by the following formula, two equations which describe three sources of increase and decrease for each of the two chemicals:\n",
        "\n",
        "\n",
        "$$\n",
        "\\begin{array}{l}\n",
        "\\displaystyle \\frac{\\partial u}{\\partial t} = D_u \\Delta u - uv^2 + F(1-u) \\\\\n",
        "\\displaystyle \\frac{\\partial v}{\\partial t} = D_v \\Delta v + uv^2 - (F+k)v\n",
        "\\end{array}\n",
        "$$\n",
        "\n",
        "The laplacian is computed with the following numerical scheme\n",
        "\n",
        "$$\n",
        "\\Delta u_{i,j} \\approx u_{i,j-1} + u_{i-1,j} -4u_{i,j} + u_{i+1, j} + u_{i, j+1}\n",
        "$$\n",
        "\n",
        "The classic Euler scheme is used to integrate the time derivative."
      ]
    },
    {
      "cell_type": "markdown",
      "metadata": {
        "id": "klC_Jb3SH3pz"
      },
      "source": [
        "## Initialization\n",
        "\n",
        "$u$ is $1$ everywhere et $v$ is $0$ in the domain except in a square zone where $v = 0.25$ and $ u = 0.5$. This square located in the center of the domain is  $[0, 1]\\times[0,1]$ with a size of $0.2$.\n"
      ]
    },
    {
      "cell_type": "code",
      "execution_count": 2,
      "metadata": {
        "id": "4r9576mtH3pz"
      },
      "outputs": [],
      "source": [
        "def init(n):\n",
        "\n",
        "    u = np.ones((n+2,n+2))\n",
        "    v = np.zeros((n+2,n+2))\n",
        "\n",
        "    x, y = np.meshgrid(np.linspace(0, 1, n+2), np.linspace(0, 1, n+2))\n",
        "\n",
        "    mask = (0.4<x) & (x<0.6) & (0.4<y) & (y<0.6)\n",
        "\n",
        "    u[mask] = 0.75\n",
        "    v[mask] = 0.25\n",
        "    u *= np.random.uniform(.80, 1.20, size=(n+2,n+2))\n",
        "    v *= np.random.uniform(.80, 1.20, size=(n+2,n+2))\n",
        "\n",
        "    return u, v"
      ]
    },
    {
      "cell_type": "markdown",
      "metadata": {
        "id": "EF_RBINeH3p0"
      },
      "source": [
        "## Boundary conditions\n",
        "\n",
        "We assume that the domain is periodic.\n"
      ]
    },
    {
      "cell_type": "code",
      "execution_count": 3,
      "metadata": {
        "id": "VBS04OEQH3p1"
      },
      "outputs": [],
      "source": [
        "def periodic_bc(u):\n",
        "    u[0, :] = u[-2, :]\n",
        "    u[-1, :] = u[1, :]\n",
        "    u[:, 0] = u[:, -2]\n",
        "    u[:, -1] = u[:, 1]"
      ]
    },
    {
      "cell_type": "markdown",
      "metadata": {
        "id": "ciBNc_0RH3p1"
      },
      "source": [
        "## Laplacian"
      ]
    },
    {
      "cell_type": "code",
      "execution_count": 4,
      "metadata": {
        "id": "nnBYnQvmH3p2"
      },
      "outputs": [],
      "source": [
        "def laplacian(u):\n",
        "    \"\"\"\n",
        "    second order finite differences\n",
        "    \"\"\"\n",
        "    return (                  u[ :-2, 1:-1] +\n",
        "             u[1:-1, :-2] - 4*u[1:-1, 1:-1] + u[1:-1, 2:] +\n",
        "                          +   u[2:  , 1:-1] )"
      ]
    },
    {
      "cell_type": "markdown",
      "metadata": {
        "id": "ZAS5CqsxH3p2"
      },
      "source": [
        "## Gray-Scott model"
      ]
    },
    {
      "cell_type": "code",
      "execution_count": 5,
      "metadata": {
        "id": "TJTHAPulH3p2"
      },
      "outputs": [],
      "source": [
        "def numpy_grayscott(U, V, Du, Dv, F, k):\n",
        "    # V = 1-U\n",
        "    u, v = U[1:-1,1:-1], V[1:-1,1:-1]\n",
        "\n",
        "    Lu = laplacian(U)\n",
        "    Lv = laplacian(V)\n",
        "\n",
        "    uvv = u*v*v\n",
        "    u += Du*Lu - uvv + F*(1 - u)\n",
        "    v += Dv*Lv + uvv - (F + k)*v\n",
        "\n",
        "    periodic_bc(U)\n",
        "    periodic_bc(V)\n",
        "\n",
        "    return U, V"
      ]
    },
    {
      "cell_type": "markdown",
      "metadata": {
        "id": "ARCpUcrAH3p2"
      },
      "source": [
        "## Visualization"
      ]
    },
    {
      "cell_type": "code",
      "execution_count": 6,
      "metadata": {
        "id": "bd36IsDHH3p3"
      },
      "outputs": [],
      "source": [
        "## Wires\n",
        "# Du, Dv = .1, .05\n",
        "# F, k = 0.0545, 0.062\n",
        "\n",
        "## Wires\n",
        "Du, Dv = .1, .05\n",
        "F, k = 0.029, 0.057\n",
        "\n",
        "Du, Dv = .08, .03 ## this just acts as scaling of geometric size \n",
        "## .05 to 0.2 is roughly the range\n",
        "\n",
        "\n",
        "# F, k = 0.102, 0.055 ## type rho: long patterns"
      ]
    },
    {
      "cell_type": "code",
      "execution_count": 7,
      "metadata": {
        "colab": {
          "base_uri": "https://localhost:8080/",
          "height": 538,
          "referenced_widgets": [
            "0a908bc07543418c98029d80cdbb92a0",
            "ee322ffd15974f44abb39067eb56b36e",
            "c4bf0026c168465f9705a12db3619a11",
            "f092bc25ed784110957e775ee0fba025",
            "73d4f6e5511540d68080c51d52b35949",
            "006a8d3bc2e84f5988b809e3bad69c2c",
            "171771b707714c90af01bfcc9f886bde",
            "3353172458f9471bbdb232d997c8502c",
            "beb9bb73b52441ad9744ca87d264bb41",
            "6430b1f699fa48148b99de2d35e3ab8c",
            "129fc5cc100a49128a66aafca62cc8ff"
          ]
        },
        "id": "BqHm7u-rH3p3",
        "outputId": "42f46d65-4ac9-4e57-9b03-2d742446847c"
      },
      "outputs": [
        {
          "name": "stderr",
          "output_type": "stream",
          "text": [
            "100%|██████████| 400/400 [00:14<00:00, 27.43it/s]\n"
          ]
        }
      ],
      "source": [
        "from tqdm import tqdm\n",
        "from PIL import Image\n",
        "U, V = init(200)\n",
        "\n",
        "def create_image(grayscott):\n",
        "    global U, V\n",
        "    for t in range(40): ## inner loop s.t. the visualized time steps are big enough\n",
        "        U, V = grayscott(U, V, Du, Dv, F, k)\n",
        "    V_scaled = np.uint8(255*(V-V.min()) / (V.max()-V.min()))\n",
        "    return V_scaled\n",
        "\n",
        "def create_frames(n, grayscott):\n",
        "    return [create_image(grayscott) for i in tqdm(range(n))]\n",
        "\n",
        "frames = create_frames(400, numpy_grayscott)"
      ]
    },
    {
      "cell_type": "code",
      "execution_count": 8,
      "metadata": {},
      "outputs": [
        {
          "data": {
            "image/jpeg": "[encoded data removed]",
            "image/png": "[encoded data removed]",
            "text/plain": [
              "<PIL.Image.Image image mode=L size=202x202>"
            ]
          },
          "execution_count": 8,
          "metadata": {},
          "output_type": "execute_result"
        }
      ],
      "source": [
        "Image.fromarray(frames[-1])"
      ]
    },
    {
      "cell_type": "code",
      "execution_count": 9,
      "metadata": {
        "id": "kpDK3ALhH3p3"
      },
      "outputs": [
        {
          "data": {
            "application/vnd.jupyter.widget-view+json": {
              "model_id": "74f3526a08074ef1ac38d135aeb541b7",
              "version_major": 2,
              "version_minor": 0
            },
            "text/plain": [
              "interactive(children=(IntSlider(value=0, description='iframe', max=399), Output()), _dom_classes=('widget-inte…"
            ]
          },
          "metadata": {},
          "output_type": "display_data"
        },
        {
          "data": {
            "text/plain": [
              "<function __main__.display_sequence(iframe)>"
            ]
          },
          "execution_count": 9,
          "metadata": {},
          "output_type": "execute_result"
        }
      ],
      "source": [
        "from ipywidgets import interact, IntSlider\n",
        "\n",
        "def display_sequence(iframe):\n",
        "    return Image.fromarray(frames[iframe])\n",
        "\n",
        "interact(display_sequence,\n",
        "         iframe=IntSlider(min=0,\n",
        "                          max=len(frames)-1,\n",
        "                          step=1,\n",
        "                          value=0,\n",
        "                          continuous_update=True))"
      ]
    },
    {
      "cell_type": "markdown",
      "metadata": {
        "id": "2og_6bYNH3p4"
      },
      "source": [
        "## References\n",
        "\n",
        "- [Reaction-Diffusion by the Gray-Scott Model: Pearson's Parametrization](https://mrob.com/pub/comp/xmorphia/)"
      ]
    }
  ],
  "metadata": {
    "colab": {
      "provenance": []
    },
    "kernelspec": {
      "display_name": "Python 3",
      "language": "python",
      "name": "python3"
    },
    "language_info": {
      "codemirror_mode": {
        "name": "ipython",
        "version": 3
      },
      "file_extension": ".py",
      "mimetype": "text/x-python",
      "name": "python",
      "nbconvert_exporter": "python",
      "pygments_lexer": "ipython3",
      "version": "3.9.0"
    },
    "widgets": {
      "application/vnd.jupyter.widget-state+json": {
        "006a8d3bc2e84f5988b809e3bad69c2c": {
          "model_module": "@jupyter-widgets/base",
          "model_module_version": "1.2.0",
          "model_name": "LayoutModel",
          "state": {
            "_model_module": "@jupyter-widgets/base",
            "_model_module_version": "1.2.0",
            "_model_name": "LayoutModel",
            "_view_count": null,
            "_view_module": "@jupyter-widgets/base",
            "_view_module_version": "1.2.0",
            "_view_name": "LayoutView",
            "align_content": null,
            "align_items": null,
            "align_self": null,
            "border": null,
            "bottom": null,
            "display": null,
            "flex": null,
            "flex_flow": null,
            "grid_area": null,
            "grid_auto_columns": null,
            "grid_auto_flow": null,
            "grid_auto_rows": null,
            "grid_column": null,
            "grid_gap": null,
            "grid_row": null,
            "grid_template_areas": null,
            "grid_template_columns": null,
            "grid_template_rows": null,
            "height": null,
            "justify_content": null,
            "justify_items": null,
            "left": null,
            "margin": null,
            "max_height": null,
            "max_width": null,
            "min_height": null,
            "min_width": null,
            "object_fit": null,
            "object_position": null,
            "order": null,
            "overflow": null,
            "overflow_x": null,
            "overflow_y": null,
            "padding": null,
            "right": null,
            "top": null,
            "visibility": null,
            "width": null
          }
        },
        "0a908bc07543418c98029d80cdbb92a0": {
          "model_module": "@jupyter-widgets/controls",
          "model_module_version": "1.5.0",
          "model_name": "HBoxModel",
          "state": {
            "_dom_classes": [],
            "_model_module": "@jupyter-widgets/controls",
            "_model_module_version": "1.5.0",
            "_model_name": "HBoxModel",
            "_view_count": null,
            "_view_module": "@jupyter-widgets/controls",
            "_view_module_version": "1.5.0",
            "_view_name": "HBoxView",
            "box_style": "",
            "children": [
              "IPY_MODEL_ee322ffd15974f44abb39067eb56b36e",
              "IPY_MODEL_c4bf0026c168465f9705a12db3619a11",
              "IPY_MODEL_f092bc25ed784110957e775ee0fba025"
            ],
            "layout": "IPY_MODEL_73d4f6e5511540d68080c51d52b35949"
          }
        },
        "129fc5cc100a49128a66aafca62cc8ff": {
          "model_module": "@jupyter-widgets/controls",
          "model_module_version": "1.5.0",
          "model_name": "DescriptionStyleModel",
          "state": {
            "_model_module": "@jupyter-widgets/controls",
            "_model_module_version": "1.5.0",
            "_model_name": "DescriptionStyleModel",
            "_view_count": null,
            "_view_module": "@jupyter-widgets/base",
            "_view_module_version": "1.2.0",
            "_view_name": "StyleView",
            "description_width": ""
          }
        },
        "171771b707714c90af01bfcc9f886bde": {
          "model_module": "@jupyter-widgets/controls",
          "model_module_version": "1.5.0",
          "model_name": "DescriptionStyleModel",
          "state": {
            "_model_module": "@jupyter-widgets/controls",
            "_model_module_version": "1.5.0",
            "_model_name": "DescriptionStyleModel",
            "_view_count": null,
            "_view_module": "@jupyter-widgets/base",
            "_view_module_version": "1.2.0",
            "_view_name": "StyleView",
            "description_width": ""
          }
        },
        "3353172458f9471bbdb232d997c8502c": {
          "model_module": "@jupyter-widgets/base",
          "model_module_version": "1.2.0",
          "model_name": "LayoutModel",
          "state": {
            "_model_module": "@jupyter-widgets/base",
            "_model_module_version": "1.2.0",
            "_model_name": "LayoutModel",
            "_view_count": null,
            "_view_module": "@jupyter-widgets/base",
            "_view_module_version": "1.2.0",
            "_view_name": "LayoutView",
            "align_content": null,
            "align_items": null,
            "align_self": null,
            "border": null,
            "bottom": null,
            "display": null,
            "flex": null,
            "flex_flow": null,
            "grid_area": null,
            "grid_auto_columns": null,
            "grid_auto_flow": null,
            "grid_auto_rows": null,
            "grid_column": null,
            "grid_gap": null,
            "grid_row": null,
            "grid_template_areas": null,
            "grid_template_columns": null,
            "grid_template_rows": null,
            "height": null,
            "justify_content": null,
            "justify_items": null,
            "left": null,
            "margin": null,
            "max_height": null,
            "max_width": null,
            "min_height": null,
            "min_width": null,
            "object_fit": null,
            "object_position": null,
            "order": null,
            "overflow": null,
            "overflow_x": null,
            "overflow_y": null,
            "padding": null,
            "right": null,
            "top": null,
            "visibility": null,
            "width": null
          }
        },
        "6430b1f699fa48148b99de2d35e3ab8c": {
          "model_module": "@jupyter-widgets/base",
          "model_module_version": "1.2.0",
          "model_name": "LayoutModel",
          "state": {
            "_model_module": "@jupyter-widgets/base",
            "_model_module_version": "1.2.0",
            "_model_name": "LayoutModel",
            "_view_count": null,
            "_view_module": "@jupyter-widgets/base",
            "_view_module_version": "1.2.0",
            "_view_name": "LayoutView",
            "align_content": null,
            "align_items": null,
            "align_self": null,
            "border": null,
            "bottom": null,
            "display": null,
            "flex": null,
            "flex_flow": null,
            "grid_area": null,
            "grid_auto_columns": null,
            "grid_auto_flow": null,
            "grid_auto_rows": null,
            "grid_column": null,
            "grid_gap": null,
            "grid_row": null,
            "grid_template_areas": null,
            "grid_template_columns": null,
            "grid_template_rows": null,
            "height": null,
            "justify_content": null,
            "justify_items": null,
            "left": null,
            "margin": null,
            "max_height": null,
            "max_width": null,
            "min_height": null,
            "min_width": null,
            "object_fit": null,
            "object_position": null,
            "order": null,
            "overflow": null,
            "overflow_x": null,
            "overflow_y": null,
            "padding": null,
            "right": null,
            "top": null,
            "visibility": null,
            "width": null
          }
        },
        "73d4f6e5511540d68080c51d52b35949": {
          "model_module": "@jupyter-widgets/base",
          "model_module_version": "1.2.0",
          "model_name": "LayoutModel",
          "state": {
            "_model_module": "@jupyter-widgets/base",
            "_model_module_version": "1.2.0",
            "_model_name": "LayoutModel",
            "_view_count": null,
            "_view_module": "@jupyter-widgets/base",
            "_view_module_version": "1.2.0",
            "_view_name": "LayoutView",
            "align_content": null,
            "align_items": null,
            "align_self": null,
            "border": null,
            "bottom": null,
            "display": null,
            "flex": null,
            "flex_flow": null,
            "grid_area": null,
            "grid_auto_columns": null,
            "grid_auto_flow": null,
            "grid_auto_rows": null,
            "grid_column": null,
            "grid_gap": null,
            "grid_row": null,
            "grid_template_areas": null,
            "grid_template_columns": null,
            "grid_template_rows": null,
            "height": null,
            "justify_content": null,
            "justify_items": null,
            "left": null,
            "margin": null,
            "max_height": null,
            "max_width": null,
            "min_height": null,
            "min_width": null,
            "object_fit": null,
            "object_position": null,
            "order": null,
            "overflow": null,
            "overflow_x": null,
            "overflow_y": null,
            "padding": null,
            "right": null,
            "top": null,
            "visibility": null,
            "width": null
          }
        },
        "beb9bb73b52441ad9744ca87d264bb41": {
          "model_module": "@jupyter-widgets/controls",
          "model_module_version": "1.5.0",
          "model_name": "ProgressStyleModel",
          "state": {
            "_model_module": "@jupyter-widgets/controls",
            "_model_module_version": "1.5.0",
            "_model_name": "ProgressStyleModel",
            "_view_count": null,
            "_view_module": "@jupyter-widgets/base",
            "_view_module_version": "1.2.0",
            "_view_name": "StyleView",
            "bar_color": null,
            "description_width": ""
          }
        },
        "c4bf0026c168465f9705a12db3619a11": {
          "model_module": "@jupyter-widgets/controls",
          "model_module_version": "1.5.0",
          "model_name": "FloatProgressModel",
          "state": {
            "_dom_classes": [],
            "_model_module": "@jupyter-widgets/controls",
            "_model_module_version": "1.5.0",
            "_model_name": "FloatProgressModel",
            "_view_count": null,
            "_view_module": "@jupyter-widgets/controls",
            "_view_module_version": "1.5.0",
            "_view_name": "ProgressView",
            "bar_style": "",
            "description": "",
            "description_tooltip": null,
            "layout": "IPY_MODEL_3353172458f9471bbdb232d997c8502c",
            "max": 500,
            "min": 0,
            "orientation": "horizontal",
            "style": "IPY_MODEL_beb9bb73b52441ad9744ca87d264bb41",
            "value": 61
          }
        },
        "ee322ffd15974f44abb39067eb56b36e": {
          "model_module": "@jupyter-widgets/controls",
          "model_module_version": "1.5.0",
          "model_name": "HTMLModel",
          "state": {
            "_dom_classes": [],
            "_model_module": "@jupyter-widgets/controls",
            "_model_module_version": "1.5.0",
            "_model_name": "HTMLModel",
            "_view_count": null,
            "_view_module": "@jupyter-widgets/controls",
            "_view_module_version": "1.5.0",
            "_view_name": "HTMLView",
            "description": "",
            "description_tooltip": null,
            "layout": "IPY_MODEL_006a8d3bc2e84f5988b809e3bad69c2c",
            "placeholder": "​",
            "style": "IPY_MODEL_171771b707714c90af01bfcc9f886bde",
            "value": " 12%"
          }
        },
        "f092bc25ed784110957e775ee0fba025": {
          "model_module": "@jupyter-widgets/controls",
          "model_module_version": "1.5.0",
          "model_name": "HTMLModel",
          "state": {
            "_dom_classes": [],
            "_model_module": "@jupyter-widgets/controls",
            "_model_module_version": "1.5.0",
            "_model_name": "HTMLModel",
            "_view_count": null,
            "_view_module": "@jupyter-widgets/controls",
            "_view_module_version": "1.5.0",
            "_view_name": "HTMLView",
            "description": "",
            "description_tooltip": null,
            "layout": "IPY_MODEL_6430b1f699fa48148b99de2d35e3ab8c",
            "placeholder": "​",
            "style": "IPY_MODEL_129fc5cc100a49128a66aafca62cc8ff",
            "value": " 61/500 [00:27&lt;01:53,  3.86it/s]"
          }
        }
      }
    }
  },
  "nbformat": 4,
  "nbformat_minor": 0
}
